{
  "nbformat": 4,
  "nbformat_minor": 0,
  "metadata": {
    "colab": {
      "name": "01_create_dataset.ipynb",
      "provenance": [],
      "collapsed_sections": [],
      "authorship_tag": "ABX9TyP1lHQWeT4fBfcdk+5Nyp84",
      "include_colab_link": true
    },
    "kernelspec": {
      "name": "python3",
      "display_name": "Python 3"
    }
  },
  "cells": [
    {
      "cell_type": "markdown",
      "metadata": {
        "id": "view-in-github",
        "colab_type": "text"
      },
      "source": [
        "<a href=\"https://colab.research.google.com/github/tchih11/qiita/blob/main/notebooks/spacy_scattertext/01_create_dataset.ipynb\" target=\"_parent\"><img src=\"https://colab.research.google.com/assets/colab-badge.svg\" alt=\"Open In Colab\"/></a>"
      ]
    },
    {
      "cell_type": "code",
      "metadata": {
        "id": "6FAUDX_k7svF"
      },
      "source": [
        "user_name = 'tchih11'\n",
        "repository_name = \"qiita\"\n",
        "\n",
        "!git clone https://{user_name}@github.com/{user_name}/{repository_name}.git\n",
        "%cd /content/qiita/notebooks/spacy_scattertext"
      ],
      "execution_count": null,
      "outputs": []
    },
    {
      "cell_type": "code",
      "metadata": {
        "id": "_Z3Eeus-747F"
      },
      "source": [
        "%%capture\n",
        "!pip install neologdn\n",
        "\n",
        "import glob\n",
        "import os\n",
        "import pathlib\n",
        "import tarfile\n",
        "\n",
        "import neologdn\n",
        "import pandas as pd"
      ],
      "execution_count": 6,
      "outputs": []
    },
    {
      "cell_type": "code",
      "metadata": {
        "colab": {
          "base_uri": "https://localhost:8080/"
        },
        "id": "JujrI0ZhPJmn",
        "outputId": "75ecb342-e425-4cc3-afba-d194443a3d20"
      },
      "source": [
        "# Livedoorニュースのファイルをダウンロード\n",
        "! wget \"https://www.rondhuit.com/download/ldcc-20140209.tar.gz\"\n",
        "\n",
        "# rawデータ解凍\n",
        "tar = tarfile.open(\"./ldcc-20140209.tar.gz\", \"r:gz\")\n",
        "tar.extractall(\".\")\n",
        "tar.close()"
      ],
      "execution_count": 7,
      "outputs": [
        {
          "output_type": "stream",
          "text": [
            "--2021-03-22 23:50:30--  https://www.rondhuit.com/download/ldcc-20140209.tar.gz\n",
            "Resolving www.rondhuit.com (www.rondhuit.com)... 59.106.19.174\n",
            "Connecting to www.rondhuit.com (www.rondhuit.com)|59.106.19.174|:443... connected.\n",
            "HTTP request sent, awaiting response... 200 OK\n",
            "Length: 8855190 (8.4M) [application/x-gzip]\n",
            "Saving to: ‘ldcc-20140209.tar.gz.1’\n",
            "\n",
            "ldcc-20140209.tar.g 100%[===================>]   8.44M  1.59MB/s    in 9.2s    \n",
            "\n",
            "2021-03-22 23:50:40 (936 KB/s) - ‘ldcc-20140209.tar.gz.1’ saved [8855190/8855190]\n",
            "\n"
          ],
          "name": "stdout"
        }
      ]
    },
    {
      "cell_type": "code",
      "metadata": {
        "id": "GY0HHBNT--cK"
      },
      "source": [
        "df = pd.DataFrame(columns=[\"text\", \"category\"])\n",
        "\n",
        "for file_path in pathlib.Path(\"./text\").glob(\"**/*.txt\"):\n",
        "    f_path = pathlib.Path(file_path)\n",
        "    file_name = f_path.name\n",
        "    category_name = f_path.parent.name\n",
        "\n",
        "    # 特殊ファイルはスキップ\n",
        "    if file_name in [\"CHANGES.txt\", \"README.txt\", \"LICENSE.txt\"]:\n",
        "        continue\n",
        "\n",
        "    with open(file_path, \"r\") as f:\n",
        "        text_all = f.read()\n",
        "        text_lines = text_all.split(\"\\n\")\n",
        "        url, time, title, *text = text_lines\n",
        "\n",
        "        # text前処理\n",
        "        text = \"\".join(text)\n",
        "        text = text.strip()\n",
        "        text = neologdn.normalize(text)\n",
        "        text = text.replace(' ', '')\n",
        "        text = text.replace('　', '')\n",
        "\n",
        "        df.loc[file_name] = [text,category_name]\n",
        "        \n",
        "# インデックスに使用していたファイル名を削除\n",
        "df.reset_index(inplace=True,drop=True)"
      ],
      "execution_count": 8,
      "outputs": []
    },
    {
      "cell_type": "code",
      "metadata": {
        "colab": {
          "base_uri": "https://localhost:8080/"
        },
        "id": "x2HbpP4xWeRE",
        "outputId": "7b34f110-1b83-49b0-ea63-070691cd0265"
      },
      "source": [
        "df.to_pickle(\"../../data/livedoor_news.pkl\")"
      ],
      "execution_count": 14,
      "outputs": [
        {
          "output_type": "stream",
          "text": [
            "/content/qiita/notebooks/spacy_scattertext\n"
          ],
          "name": "stdout"
        }
      ]
    },
    {
      "cell_type": "code",
      "metadata": {
        "id": "wSqNFcCoY7dX"
      },
      "source": [
        ""
      ],
      "execution_count": null,
      "outputs": []
    }
  ]
}