{
  "nbformat": 4,
  "nbformat_minor": 0,
  "metadata": {
    "colab": {
      "name": "segmentation_models_pytorch_VOC.ipynb",
      "provenance": [],
      "collapsed_sections": [],
      "include_colab_link": true
    },
    "kernelspec": {
      "name": "python3",
      "display_name": "Python 3"
    },
    "language_info": {
      "name": "python"
    },
    "accelerator": "GPU",
    "widgets": {
      "application/vnd.jupyter.widget-state+json": {
        "e0f555b3ea46435fb93f7b5d4ae616b9": {
          "model_module": "@jupyter-widgets/controls",
          "model_name": "HBoxModel",
          "model_module_version": "1.5.0",
          "state": {
            "_dom_classes": [],
            "_model_module": "@jupyter-widgets/controls",
            "_model_module_version": "1.5.0",
            "_model_name": "HBoxModel",
            "_view_count": null,
            "_view_module": "@jupyter-widgets/controls",
            "_view_module_version": "1.5.0",
            "_view_name": "HBoxView",
            "box_style": "",
            "children": [
              "IPY_MODEL_159018d4f08641d494ba2101c786af0c",
              "IPY_MODEL_98b338d5d4f84f1f99fae97355a46d70",
              "IPY_MODEL_b3aa9e2051af4f3c8140eaad50d6a48b"
            ],
            "layout": "IPY_MODEL_ddbc685467b24cd4b931859f05dd8762"
          }
        },
        "159018d4f08641d494ba2101c786af0c": {
          "model_module": "@jupyter-widgets/controls",
          "model_name": "HTMLModel",
          "model_module_version": "1.5.0",
          "state": {
            "_dom_classes": [],
            "_model_module": "@jupyter-widgets/controls",
            "_model_module_version": "1.5.0",
            "_model_name": "HTMLModel",
            "_view_count": null,
            "_view_module": "@jupyter-widgets/controls",
            "_view_module_version": "1.5.0",
            "_view_name": "HTMLView",
            "description": "",
            "description_tooltip": null,
            "layout": "IPY_MODEL_451c758213d74bd0af2b73e2684e8382",
            "placeholder": "​",
            "style": "IPY_MODEL_eb726b6c359f4f7e8a45b428dc07fb4f",
            "value": "100%"
          }
        },
        "98b338d5d4f84f1f99fae97355a46d70": {
          "model_module": "@jupyter-widgets/controls",
          "model_name": "FloatProgressModel",
          "model_module_version": "1.5.0",
          "state": {
            "_dom_classes": [],
            "_model_module": "@jupyter-widgets/controls",
            "_model_module_version": "1.5.0",
            "_model_name": "FloatProgressModel",
            "_view_count": null,
            "_view_module": "@jupyter-widgets/controls",
            "_view_module_version": "1.5.0",
            "_view_name": "ProgressView",
            "bar_style": "success",
            "description": "",
            "description_tooltip": null,
            "layout": "IPY_MODEL_6cd70b1325764079be455fc0586b0b55",
            "max": 77999237,
            "min": 0,
            "orientation": "horizontal",
            "style": "IPY_MODEL_aa97d01aad3241f1bc865eaa9cdf1e8e",
            "value": 77999237
          }
        },
        "b3aa9e2051af4f3c8140eaad50d6a48b": {
          "model_module": "@jupyter-widgets/controls",
          "model_name": "HTMLModel",
          "model_module_version": "1.5.0",
          "state": {
            "_dom_classes": [],
            "_model_module": "@jupyter-widgets/controls",
            "_model_module_version": "1.5.0",
            "_model_name": "HTMLModel",
            "_view_count": null,
            "_view_module": "@jupyter-widgets/controls",
            "_view_module_version": "1.5.0",
            "_view_name": "HTMLView",
            "description": "",
            "description_tooltip": null,
            "layout": "IPY_MODEL_2e830fe220e8467db0c1595cd14f211a",
            "placeholder": "​",
            "style": "IPY_MODEL_df7f619911d9413b9ee43128a842df4c",
            "value": " 74.4M/74.4M [00:03&lt;00:00, 38.2MB/s]"
          }
        },
        "ddbc685467b24cd4b931859f05dd8762": {
          "model_module": "@jupyter-widgets/base",
          "model_name": "LayoutModel",
          "model_module_version": "1.2.0",
          "state": {
            "_model_module": "@jupyter-widgets/base",
            "_model_module_version": "1.2.0",
            "_model_name": "LayoutModel",
            "_view_count": null,
            "_view_module": "@jupyter-widgets/base",
            "_view_module_version": "1.2.0",
            "_view_name": "LayoutView",
            "align_content": null,
            "align_items": null,
            "align_self": null,
            "border": null,
            "bottom": null,
            "display": null,
            "flex": null,
            "flex_flow": null,
            "grid_area": null,
            "grid_auto_columns": null,
            "grid_auto_flow": null,
            "grid_auto_rows": null,
            "grid_column": null,
            "grid_gap": null,
            "grid_row": null,
            "grid_template_areas": null,
            "grid_template_columns": null,
            "grid_template_rows": null,
            "height": null,
            "justify_content": null,
            "justify_items": null,
            "left": null,
            "margin": null,
            "max_height": null,
            "max_width": null,
            "min_height": null,
            "min_width": null,
            "object_fit": null,
            "object_position": null,
            "order": null,
            "overflow": null,
            "overflow_x": null,
            "overflow_y": null,
            "padding": null,
            "right": null,
            "top": null,
            "visibility": null,
            "width": null
          }
        },
        "451c758213d74bd0af2b73e2684e8382": {
          "model_module": "@jupyter-widgets/base",
          "model_name": "LayoutModel",
          "model_module_version": "1.2.0",
          "state": {
            "_model_module": "@jupyter-widgets/base",
            "_model_module_version": "1.2.0",
            "_model_name": "LayoutModel",
            "_view_count": null,
            "_view_module": "@jupyter-widgets/base",
            "_view_module_version": "1.2.0",
            "_view_name": "LayoutView",
            "align_content": null,
            "align_items": null,
            "align_self": null,
            "border": null,
            "bottom": null,
            "display": null,
            "flex": null,
            "flex_flow": null,
            "grid_area": null,
            "grid_auto_columns": null,
            "grid_auto_flow": null,
            "grid_auto_rows": null,
            "grid_column": null,
            "grid_gap": null,
            "grid_row": null,
            "grid_template_areas": null,
            "grid_template_columns": null,
            "grid_template_rows": null,
            "height": null,
            "justify_content": null,
            "justify_items": null,
            "left": null,
            "margin": null,
            "max_height": null,
            "max_width": null,
            "min_height": null,
            "min_width": null,
            "object_fit": null,
            "object_position": null,
            "order": null,
            "overflow": null,
            "overflow_x": null,
            "overflow_y": null,
            "padding": null,
            "right": null,
            "top": null,
            "visibility": null,
            "width": null
          }
        },
        "eb726b6c359f4f7e8a45b428dc07fb4f": {
          "model_module": "@jupyter-widgets/controls",
          "model_name": "DescriptionStyleModel",
          "model_module_version": "1.5.0",
          "state": {
            "_model_module": "@jupyter-widgets/controls",
            "_model_module_version": "1.5.0",
            "_model_name": "DescriptionStyleModel",
            "_view_count": null,
            "_view_module": "@jupyter-widgets/base",
            "_view_module_version": "1.2.0",
            "_view_name": "StyleView",
            "description_width": ""
          }
        },
        "6cd70b1325764079be455fc0586b0b55": {
          "model_module": "@jupyter-widgets/base",
          "model_name": "LayoutModel",
          "model_module_version": "1.2.0",
          "state": {
            "_model_module": "@jupyter-widgets/base",
            "_model_module_version": "1.2.0",
            "_model_name": "LayoutModel",
            "_view_count": null,
            "_view_module": "@jupyter-widgets/base",
            "_view_module_version": "1.2.0",
            "_view_name": "LayoutView",
            "align_content": null,
            "align_items": null,
            "align_self": null,
            "border": null,
            "bottom": null,
            "display": null,
            "flex": null,
            "flex_flow": null,
            "grid_area": null,
            "grid_auto_columns": null,
            "grid_auto_flow": null,
            "grid_auto_rows": null,
            "grid_column": null,
            "grid_gap": null,
            "grid_row": null,
            "grid_template_areas": null,
            "grid_template_columns": null,
            "grid_template_rows": null,
            "height": null,
            "justify_content": null,
            "justify_items": null,
            "left": null,
            "margin": null,
            "max_height": null,
            "max_width": null,
            "min_height": null,
            "min_width": null,
            "object_fit": null,
            "object_position": null,
            "order": null,
            "overflow": null,
            "overflow_x": null,
            "overflow_y": null,
            "padding": null,
            "right": null,
            "top": null,
            "visibility": null,
            "width": null
          }
        },
        "aa97d01aad3241f1bc865eaa9cdf1e8e": {
          "model_module": "@jupyter-widgets/controls",
          "model_name": "ProgressStyleModel",
          "model_module_version": "1.5.0",
          "state": {
            "_model_module": "@jupyter-widgets/controls",
            "_model_module_version": "1.5.0",
            "_model_name": "ProgressStyleModel",
            "_view_count": null,
            "_view_module": "@jupyter-widgets/base",
            "_view_module_version": "1.2.0",
            "_view_name": "StyleView",
            "bar_color": null,
            "description_width": ""
          }
        },
        "2e830fe220e8467db0c1595cd14f211a": {
          "model_module": "@jupyter-widgets/base",
          "model_name": "LayoutModel",
          "model_module_version": "1.2.0",
          "state": {
            "_model_module": "@jupyter-widgets/base",
            "_model_module_version": "1.2.0",
            "_model_name": "LayoutModel",
            "_view_count": null,
            "_view_module": "@jupyter-widgets/base",
            "_view_module_version": "1.2.0",
            "_view_name": "LayoutView",
            "align_content": null,
            "align_items": null,
            "align_self": null,
            "border": null,
            "bottom": null,
            "display": null,
            "flex": null,
            "flex_flow": null,
            "grid_area": null,
            "grid_auto_columns": null,
            "grid_auto_flow": null,
            "grid_auto_rows": null,
            "grid_column": null,
            "grid_gap": null,
            "grid_row": null,
            "grid_template_areas": null,
            "grid_template_columns": null,
            "grid_template_rows": null,
            "height": null,
            "justify_content": null,
            "justify_items": null,
            "left": null,
            "margin": null,
            "max_height": null,
            "max_width": null,
            "min_height": null,
            "min_width": null,
            "object_fit": null,
            "object_position": null,
            "order": null,
            "overflow": null,
            "overflow_x": null,
            "overflow_y": null,
            "padding": null,
            "right": null,
            "top": null,
            "visibility": null,
            "width": null
          }
        },
        "df7f619911d9413b9ee43128a842df4c": {
          "model_module": "@jupyter-widgets/controls",
          "model_name": "DescriptionStyleModel",
          "model_module_version": "1.5.0",
          "state": {
            "_model_module": "@jupyter-widgets/controls",
            "_model_module_version": "1.5.0",
            "_model_name": "DescriptionStyleModel",
            "_view_count": null,
            "_view_module": "@jupyter-widgets/base",
            "_view_module_version": "1.2.0",
            "_view_name": "StyleView",
            "description_width": ""
          }
        }
      }
    }
  },
  "cells": [
    {
      "cell_type": "markdown",
      "metadata": {
        "id": "view-in-github",
        "colab_type": "text"
      },
      "source": [
        "<a href=\"https://colab.research.google.com/github/tchih11/qiita/blob/main/notebooks/segmentation_models_pytorch/segmentation_models_pytorch_VOC.ipynb\" target=\"_parent\"><img src=\"https://colab.research.google.com/assets/colab-badge.svg\" alt=\"Open In Colab\"/></a>"
      ]
    },
    {
      "cell_type": "markdown",
      "source": [
        "# インポート"
      ],
      "metadata": {
        "id": "3APGZzqoYVhW"
      }
    },
    {
      "cell_type": "code",
      "execution_count": 1,
      "metadata": {
        "id": "PULiV7w9FZOB"
      },
      "outputs": [],
      "source": [
        "# 必要なライブラリのinstall\n",
        "%%capture\n",
        "!pip install opencv-python-headless==4.1.2.30\n",
        "!pip install -U git+https://github.com/albu/albumentations --no-cache-dir\n",
        "!pip install segmentation-models-pytorch==0.2.1"
      ]
    },
    {
      "cell_type": "code",
      "source": [
        "import os\n",
        "import tarfile\n",
        "import urllib.request\n",
        "\n",
        "import albumentations as albu\n",
        "import matplotlib.pyplot as plt\n",
        "import numpy as np\n",
        "import segmentation_models_pytorch as smp\n",
        "import torch\n",
        "import torch.utils.data as data\n",
        "from PIL import Image"
      ],
      "metadata": {
        "id": "tYw-GTu_QVFK"
      },
      "execution_count": 2,
      "outputs": []
    },
    {
      "cell_type": "markdown",
      "source": [
        "# VOCデータのDL"
      ],
      "metadata": {
        "id": "KkkVNplRYX6c"
      }
    },
    {
      "cell_type": "code",
      "source": [
        "# 使用データのDL\n",
        "data_dir = \"./data/\"\n",
        "if not os.path.exists(data_dir):\n",
        "    os.mkdir(data_dir)\n",
        "\n",
        "url = \"http://host.robots.ox.ac.uk/pascal/VOC/voc2012/VOCtrainval_11-May-2012.tar\"\n",
        "target_path = os.path.join(data_dir, \"VOCtrainval_11-May-2012.tar\") \n",
        "\n",
        "if not os.path.exists(target_path):\n",
        "    urllib.request.urlretrieve(url, target_path)\n",
        "    tar = tarfile.TarFile(target_path)\n",
        "    tar.extractall(data_dir)\n",
        "    tar.close()"
      ],
      "metadata": {
        "id": "RneXk8LZQY3j"
      },
      "execution_count": 3,
      "outputs": []
    },
    {
      "cell_type": "markdown",
      "source": [
        "# augmentation、前処理関連の関数定義"
      ],
      "metadata": {
        "id": "YbKpUDOui_fz"
      }
    },
    {
      "cell_type": "code",
      "source": [
        "def get_augmentation(phase):\n",
        "    if phase == \"train\":\n",
        "        train_transform = [\n",
        "            albu.HorizontalFlip(p=0.5),\n",
        "            albu.ShiftScaleRotate(scale_limit=0.5, rotate_limit=0, shift_limit=0.1, p=1, border_mode=0),\n",
        "            albu.RandomBrightnessContrast()\n",
        "        ]\n",
        "        return albu.Compose(train_transform)\n",
        "\n",
        "    if phase==\"valid\":\n",
        "        return None\n",
        "\n",
        "def to_tensor(x, **kwargs):\n",
        "    return x.transpose(2, 0, 1).astype(\"float32\")\n",
        "\n",
        "def get_preprocessing(preprocessing_fn):\n",
        "    _transform = [\n",
        "        albu.Lambda(image=preprocessing_fn),\n",
        "        albu.Lambda(image=to_tensor, mask=to_tensor),\n",
        "    ]\n",
        "    return albu.Compose(_transform)\n",
        "\n",
        "def crop_to_square(image):\n",
        "    size = min(image.size)\n",
        "    left, upper = (image.width - size) // 2, (image.height - size) // 2\n",
        "    right, bottom = (image.width + size) // 2, (image.height + size) // 2\n",
        "    return image.crop((left, upper, right, bottom))"
      ],
      "metadata": {
        "id": "jzkycJIYRWC5"
      },
      "execution_count": 4,
      "outputs": []
    },
    {
      "cell_type": "markdown",
      "source": [
        "# Datasetの定義"
      ],
      "metadata": {
        "id": "U4yiZhXhjDzF"
      }
    },
    {
      "cell_type": "code",
      "source": [
        "class VOCDataset(data.Dataset):\n",
        "\n",
        "    # VOCデータセットのクラス名\n",
        "    # http://host.robots.ox.ac.uk/pascal/VOC/voc2012/segexamples/index.html\n",
        "    CLASSES = [\"background\",\"aeroplane\",\"bicycle\",\"bird\",\"boad\",\"bottle\",\n",
        "                \"bus\",\"car\",\"cat\",\"chair\",\"cow\",\"dining table\",\"dog\",\"horse\",\n",
        "                \"motor bike\",\"person\",\"potted plant\",\"sheep\",\"sofa\",\"train\",\n",
        "                \"tv/monitor\",\"void\"]\n",
        "\n",
        "    def __init__(self, images_path, masks_path, segment_class, \n",
        "                 augmentation=None, preprocessing=None):\n",
        "\n",
        "        self.images_path = images_path\n",
        "        self.masks_path = masks_path\n",
        "        self.segment_class = segment_class\n",
        "        self.augmentation = augmentation\n",
        "        self.preprocessing = preprocessing\n",
        "\n",
        "    def __len__(self):\n",
        "        return len(self.images_path)\n",
        "\n",
        "    def __getitem__(self, i):\n",
        "\n",
        "        # 元画像の読み込み、整形\n",
        "        image = Image.open(self.images_path[i])\n",
        "        image = crop_to_square(image)\n",
        "        image = image.resize((128,128), Image.ANTIALIAS)\n",
        "        image = np.asarray(image)\n",
        "\n",
        "        # maskの読み込み、整形\n",
        "        masks = Image.open(self.masks_path[i])\n",
        "        masks = crop_to_square(masks)\n",
        "        masks = masks.resize((128,128), Image.ANTIALIAS)\n",
        "        masks = np.asarray(masks)\n",
        "\n",
        "        # maskデータの境界線を表す255は扱いにくいので21に変換\n",
        "        masks = np.where(masks == 255, 21, masks)\n",
        "\n",
        "        # maskデータを正解ラベル毎の1hotに変換\n",
        "        cls_idx = [self.CLASSES.index(cls) for cls in self.segment_class]\n",
        "        masks = [(masks == idx) for idx in cls_idx]\n",
        "        mask = np.stack(masks, axis=-1).astype(\"float\")\n",
        "\n",
        "        # augmentationの実行\n",
        "        if self.augmentation:\n",
        "            sample = self.augmentation(image=image, mask=mask)\n",
        "            image, mask = sample[\"image\"], sample[\"mask\"]\n",
        "\n",
        "        # 前処理の実行\n",
        "        if self.preprocessing:\n",
        "            sample = self.preprocessing(image=image, mask=mask)\n",
        "            image, mask = sample[\"image\"], sample[\"mask\"]\n",
        "\n",
        "        return image, mask"
      ],
      "metadata": {
        "id": "ar-_WIJJRwwq"
      },
      "execution_count": 5,
      "outputs": []
    },
    {
      "cell_type": "markdown",
      "source": [
        "# モデル定義"
      ],
      "metadata": {
        "id": "Czle8PH4jIqW"
      }
    },
    {
      "cell_type": "code",
      "source": [
        "# モデルの各種設定\n",
        "ENCODER = \"efficientnet-b4\"\n",
        "ENCODER_WEIGHTS = \"imagenet\"\n",
        "ACTIVATION = \"softmax2d\"\n",
        "PREDICT_CLASS = [\"background\",\"person\", \"cat\"]\n",
        "DEVICE = \"cuda\"\n",
        "BATCH_SIZE = 8\n",
        "\n",
        "# Unet++でモデル作成\n",
        "model = smp.UnetPlusPlus(\n",
        "    encoder_name=ENCODER, \n",
        "    encoder_weights=ENCODER_WEIGHTS, \n",
        "    classes=len(PREDICT_CLASS), \n",
        "    activation=ACTIVATION,\n",
        ")"
      ],
      "metadata": {
        "id": "Xj5GAYzrR3Q5",
        "colab": {
          "base_uri": "https://localhost:8080/",
          "height": 87,
          "referenced_widgets": [
            "e0f555b3ea46435fb93f7b5d4ae616b9",
            "159018d4f08641d494ba2101c786af0c",
            "98b338d5d4f84f1f99fae97355a46d70",
            "b3aa9e2051af4f3c8140eaad50d6a48b",
            "ddbc685467b24cd4b931859f05dd8762",
            "451c758213d74bd0af2b73e2684e8382",
            "eb726b6c359f4f7e8a45b428dc07fb4f",
            "6cd70b1325764079be455fc0586b0b55",
            "aa97d01aad3241f1bc865eaa9cdf1e8e",
            "2e830fe220e8467db0c1595cd14f211a",
            "df7f619911d9413b9ee43128a842df4c"
          ]
        },
        "outputId": "38a99931-c939-4796-8cd9-72268f0c8744"
      },
      "execution_count": 6,
      "outputs": [
        {
          "output_type": "stream",
          "name": "stderr",
          "text": [
            "Downloading: \"https://github.com/lukemelas/EfficientNet-PyTorch/releases/download/1.0/efficientnet-b4-6ed6700e.pth\" to /root/.cache/torch/hub/checkpoints/efficientnet-b4-6ed6700e.pth\n"
          ]
        },
        {
          "output_type": "display_data",
          "data": {
            "text/plain": [
              "  0%|          | 0.00/74.4M [00:00<?, ?B/s]"
            ],
            "application/vnd.jupyter.widget-view+json": {
              "version_major": 2,
              "version_minor": 0,
              "model_id": "e0f555b3ea46435fb93f7b5d4ae616b9"
            }
          },
          "metadata": {}
        }
      ]
    },
    {
      "cell_type": "markdown",
      "source": [
        "# モデリングで使用するデータ周りの作成"
      ],
      "metadata": {
        "id": "YJ9XNhVVjLOS"
      }
    },
    {
      "cell_type": "code",
      "source": [
        "# encoderに合わせた前処理の取得\n",
        "preprocessing_fn = smp.encoders.get_preprocessing_fn(ENCODER, ENCODER_WEIGHTS)\n",
        "\n",
        "# データ周りを格納する辞書\n",
        "data_info = {}\n",
        "rootpath = r\"./data/VOCdevkit/VOC2012/\"\n",
        "\n",
        "for phase in [\"train\", \"val\"]:\n",
        "    # 画像のpath\n",
        "    id_names = rootpath + rf\"ImageSets/Segmentation/{phase}.txt\"\n",
        "    data_info[f\"{phase}_img_path\"] = [rootpath + rf\"JPEGImages/{file.strip()}.jpg\" for file in open(id_names)]\n",
        "    data_info[f\"{phase}_mask_path\"] = [rootpath + rf\"SegmentationClass/{file.strip()}.png\" for file in open(id_names)]\n",
        "\n",
        "    # Dataset\n",
        "    data_info[f\"{phase}_dataset\"] = VOCDataset(\n",
        "            data_info[f\"{phase}_img_path\"], \n",
        "            data_info[f\"{phase}_mask_path\"], \n",
        "            segment_class=PREDICT_CLASS,\n",
        "            augmentation=get_augmentation(phase), \n",
        "            preprocessing=get_preprocessing(preprocessing_fn)\n",
        "            )\n",
        "\n",
        "    # DataLoader\n",
        "    shuffle = True if phase==\"train\" else False\n",
        "    data_info[f\"{phase}_dataloader\"] = data.DataLoader(\n",
        "        data_info[f\"{phase}_dataset\"], \n",
        "        batch_size=BATCH_SIZE, \n",
        "        shuffle=shuffle)"
      ],
      "metadata": {
        "id": "OQGPy0qycPzw"
      },
      "execution_count": 7,
      "outputs": []
    },
    {
      "cell_type": "markdown",
      "source": [
        "# 学習の設定、実行"
      ],
      "metadata": {
        "id": "w8mVih8JjQ-b"
      }
    },
    {
      "cell_type": "code",
      "source": [
        "# 学習時の各種設定\n",
        "loss = smp.utils.losses.DiceLoss()\n",
        "metrics = [smp.utils.metrics.IoU(threshold=0.5)]\n",
        "optimizer = torch.optim.Adam([dict(params=model.parameters(), lr=0.0001)])\n",
        "\n",
        "train_epoch = smp.utils.train.TrainEpoch(\n",
        "    model, \n",
        "    loss=loss, \n",
        "    metrics=metrics, \n",
        "    optimizer=optimizer,\n",
        "    device=DEVICE\n",
        ")\n",
        "\n",
        "valid_epoch = smp.utils.train.ValidEpoch(\n",
        "    model, \n",
        "    loss=loss, \n",
        "    metrics=metrics, \n",
        "    device=DEVICE\n",
        ")"
      ],
      "metadata": {
        "id": "HCMWEkFXcRTx"
      },
      "execution_count": 8,
      "outputs": []
    },
    {
      "cell_type": "code",
      "source": [
        "patience = 5 # 5Epcoch以上連続でモデル精度が向上しなければEarly Stopping\n",
        "\n",
        "max_score = 0\n",
        "for i in range(50):\n",
        "    \n",
        "    print(f\"Epoch:{i+1}\")\n",
        "    train_logs = train_epoch.run(data_info[\"train_dataloader\"])\n",
        "    valid_logs = valid_epoch.run(data_info[\"val_dataloader\"])\n",
        "    \n",
        "    # IoUスコアが最高値が更新されればモデルを保存\n",
        "    if max_score < valid_logs[\"iou_score\"]:\n",
        "        max_score = valid_logs[\"iou_score\"]\n",
        "        torch.save(model, \"./best_model.pth\")\n",
        "        print(\"Model saved!\")\n",
        "        early_stop_counter = 0\n",
        "\n",
        "    else:\n",
        "        early_stop_counter += 1\n",
        "        print(f\"not improve for {early_stop_counter}Epoch\")\n",
        "        if early_stop_counter==patience:\n",
        "            print(f\"early stop. Max Score {max_score}\")\n",
        "            break\n",
        "\n",
        "    # 適当なタイミングでlearning rateの変更\n",
        "    if i == 10:\n",
        "        optimizer.param_groups[0][\"lr\"] = 1e-5\n",
        "        print(\"Decrease decoder learning rate to 1e-5\")\n"
      ],
      "metadata": {
        "id": "WmAFARpOcThq"
      },
      "execution_count": null,
      "outputs": []
    },
    {
      "cell_type": "markdown",
      "source": [
        "# 推論と可視化による検証"
      ],
      "metadata": {
        "id": "PFuwROlXjZdO"
      }
    },
    {
      "cell_type": "code",
      "source": [
        "# モデルのロード\n",
        "best_model = torch.load(\"./best_model.pth\")\n",
        "best_model.eval()\n",
        "\n",
        "# 可視化用のpalette取得\n",
        "image_sample_palette = Image.open(data_info[\"val_mask_path\"][0])\n",
        "PALETTE = image_sample_palette.getpalette()"
      ],
      "metadata": {
        "id": "cMRxz6e2c3Vt"
      },
      "execution_count": 11,
      "outputs": []
    },
    {
      "cell_type": "code",
      "source": [
        "# 検証データから\"cat\",\"person\"を含む画像を取得\n",
        "idx_dict = {\"person\":[],\"cat\":[],\"both\":[]}\n",
        "\n",
        "# 該当の対象物があればpathをリストに加える\n",
        "for i, path in enumerate(data_info[\"val_mask_path\"]):\n",
        "\n",
        "    img = np.asarray(Image.open(path))\n",
        "    unique_class = np.unique(img)\n",
        "\n",
        "    if 8 in unique_class and 15 in unique_class:\n",
        "        idx_dict[\"both\"].append(i)\n",
        "        \n",
        "    elif 8 in unique_class:\n",
        "        idx_dict[\"cat\"].append(i)\n",
        "        \n",
        "    elif 15 in unique_class:\n",
        "        idx_dict[\"person\"].append(i)"
      ],
      "metadata": {
        "id": "aJbFWYOpc6Zd"
      },
      "execution_count": 12,
      "outputs": []
    },
    {
      "cell_type": "code",
      "source": [
        "# 検証用の関数を作成\n",
        "def check_prediction(n):\n",
        "\n",
        "    # 前処理後の画像とmaskデータを取得\n",
        "    img, mask = data_info[\"val_dataset\"][n]\n",
        "\n",
        "    fig, ax = plt.subplots(1, 3, tight_layout=True)\n",
        "    \n",
        "    # 前処理後の画像を表示\n",
        "    ax[0].imshow(img.transpose(1,2,0))\n",
        "\n",
        "    # DataloaderのmaskはOne-Hotになっているので元に戻してパレット変換\n",
        "    mask = np.argmax(mask, axis=0)\n",
        "    mask = Image.fromarray(np.uint8(mask), mode=\"P\")\n",
        "    mask.putpalette(PALETTE)\n",
        "    ax[1].imshow(mask)\n",
        "\n",
        "    # 推論結果の表示    \n",
        "    x = torch.tensor(img).unsqueeze(0) # 推論のためミニバッチ化：torch.Size([1, 3, 128, 128])\n",
        "\n",
        "    # 推論結果は各maskごとの確率、最大値をその画素の推論値とする\n",
        "    y = best_model(x.to(DEVICE))\n",
        "    y = y[0].cpu().detach().numpy()\n",
        "    y = np.argmax(y, axis=0)\n",
        "\n",
        "    # パレット変換後に表示\n",
        "    predict_class_img = Image.fromarray(np.uint8(y), mode=\"P\")\n",
        "    predict_class_img.putpalette(PALETTE)\n",
        "    ax[2].imshow(predict_class_img)\n",
        "\n",
        "    plt.show()"
      ],
      "metadata": {
        "id": "K8WNZkLnc761"
      },
      "execution_count": 13,
      "outputs": []
    },
    {
      "cell_type": "code",
      "source": [
        "# ラベル毎に実行して結果を確認\n",
        "for label, idx_list in idx_dict.items():\n",
        "    print(\"=\"*30 , label, \"=\"*30)\n",
        "    for i, idx in enumerate(idx_list):\n",
        "        check_prediction(idx)\n",
        "        if i==2:\n",
        "            break"
      ],
      "metadata": {
        "id": "kbHh2aXGdQJ-"
      },
      "execution_count": null,
      "outputs": []
    },
    {
      "cell_type": "code",
      "source": [
        ""
      ],
      "metadata": {
        "id": "EydViwGodSI1"
      },
      "execution_count": null,
      "outputs": []
    }
  ]
}